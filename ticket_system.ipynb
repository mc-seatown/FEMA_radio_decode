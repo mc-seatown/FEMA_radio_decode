{
 "cells": [
  {
   "cell_type": "code",
   "execution_count": null,
   "metadata": {},
   "outputs": [],
   "source": [
    "def ticket_open(start, stop, step=datetime.timedelta(seconds=1), inclusive=False):\n",
    "    if step.seconds > 0:\n",
    "        while start < stop:\n",
    "            yield start\n",
    "            start = start + step\n",
    "    elif step.seconds < 0:\n",
    "        while start > stop:\n",
    "            yield start\n",
    "            start = start + step\n",
    "    if inclusive and start == stop:\n",
    "        yield start\n",
    "\n",
    "for date in ticket_open(start_date, end_date, inclusive=True):\n",
    "    print(strftime(\"%Y-%m-%d\", date.timetuple()))"
   ]
  },
  {
   "cell_type": "code",
   "execution_count": null,
   "metadata": {},
   "outputs": [],
   "source": []
  }
 ],
 "metadata": {
  "kernelspec": {
   "display_name": "Python 3",
   "language": "python",
   "name": "python3"
  },
  "language_info": {
   "codemirror_mode": {
    "name": "ipython",
    "version": 3
   },
   "file_extension": ".py",
   "mimetype": "text/x-python",
   "name": "python",
   "nbconvert_exporter": "python",
   "pygments_lexer": "ipython3",
   "version": "3.7.3"
  }
 },
 "nbformat": 4,
 "nbformat_minor": 2
}
